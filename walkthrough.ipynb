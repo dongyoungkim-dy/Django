{
 "cells": [
  {
   "cell_type": "markdown",
   "metadata": {},
   "source": [
    "# Helper functions\n",
    "## Time Series Chart\n",
    "## Converts a matplotlib figure to HTML compatible format"
   ]
  },
  {
   "cell_type": "code",
   "execution_count": 1,
   "metadata": {},
   "outputs": [],
   "source": [
    "import matplotlib\n",
    "matplotlib.use('TkAgg') \n",
    "import matplotlib.pyplot as plt\n",
    "import base64\n",
    "from io import BytesIO\n",
    "\n",
    "# Provided helper functions\n",
    "def generate_time_series_chart(cleaned_data, title='Time Series Data', x_label='Time', y_label='Value'):\n",
    "    fig, ax = plt.subplots(figsize=(10,6))\n",
    "    ax.plot(cleaned_data['Year'], cleaned_data['Value'], label=y_label, color='blue', marker='o')\n",
    "    \n",
    "    # Rotating and formatting date labels on x-axis\n",
    "    plt.xticks(rotation=45)  # Rotate labels for better visibility\n",
    "    \n",
    "    ax.set_title(title)\n",
    "    ax.set_xlabel(x_label)\n",
    "    ax.set_ylabel(y_label)\n",
    "    ax.grid(True)\n",
    "    ax.legend()\n",
    "    return fig\n",
    "\n",
    "\n",
    "def get_image(fig):\n",
    "    buffer = BytesIO()\n",
    "    fig.savefig(buffer, format='png', bbox_inches='tight')\n",
    "    buffer.seek(0)\n",
    "    image_png = buffer.getvalue()\n",
    "    buffer.close()\n",
    "    graphic = base64.b64encode(image_png)\n",
    "    graphic = graphic.decode('utf-8')\n",
    "    return graphic\n",
    "\n",
    "# Visualization of GDP and Inflation for specific countries (USA and CAN in this example)\n",
    "# Assuming 'gdp_data' and 'inflation_data' are already fetched and prepared\n",
    "def visualize_data(gdp_data, inflation_data, country_code):\n",
    "    # Visualize GDP Data\n",
    "    fig_gdp = generate_time_series_chart(\n",
    "        cleaned_data=gdp_data[['Year', f'GDP_{country_code}']].rename(columns={f'GDP_{country_code}': 'Value'}),\n",
    "        title=f'GDP over Time ({country_code})',\n",
    "        x_label='Year',\n",
    "        y_label='GDP'\n",
    "    )\n",
    "    gdp_image = get_image(fig_gdp)\n",
    "    plt.show()  # Corrected to show all figures\n",
    "\n",
    "    # Visualize Inflation Data\n",
    "    fig_inflation = generate_time_series_chart(\n",
    "        cleaned_data=inflation_data[['Year', f'Inflation_{country_code}']].rename(columns={f'Inflation_{country_code}': 'Value'}),\n",
    "        title=f'Inflation Rate over Time ({country_code})',\n",
    "        x_label='Year',\n",
    "        y_label='Inflation Rate'\n",
    "    )\n",
    "    inflation_image = get_image(fig_inflation)\n",
    "    plt.show()  # Corrected to show all figures\n",
    "\n"
   ]
  },
  {
   "cell_type": "markdown",
   "metadata": {},
   "source": [
    "# Fetch Data\n",
    "Using API from worldbank.org"
   ]
  },
  {
   "cell_type": "code",
   "execution_count": 2,
   "metadata": {},
   "outputs": [],
   "source": [
    "import requests\n",
    "import pandas as pd\n",
    "\n",
    "def fetch_gdp(countries=['ALL']):\n",
    "    all_gdp_data = pd.DataFrame()\n",
    "    \n",
    "    for country_code in countries:\n",
    "        url = f\"http://api.worldbank.org/v2/country/{country_code}/indicator/NY.GDP.MKTP.CD?format=json\"\n",
    "        response = requests.get(url)\n",
    "        data = response.json()\n",
    "\n",
    "        if len(data) > 1 and isinstance(data[1], list):  # Ensure there is data\n",
    "            df = pd.DataFrame(data[1])\n",
    "            df = df[['date', 'value']].rename(columns={'date': 'Year', 'value': f'GDP_{country_code}'})\n",
    "            df = df.sort_values('Year', ascending=True)  # Sort by Year in ascending order\n",
    "            all_gdp_data = pd.merge(all_gdp_data, df, on=\"Year\", how=\"outer\") if not all_gdp_data.empty else df\n",
    "\n",
    "    return all_gdp_data\n",
    "\n",
    "def fetch_inflation(countries=['ALL']):\n",
    "    all_inflation_data = pd.DataFrame()\n",
    "    \n",
    "    for country_code in countries:\n",
    "        url = f\"http://api.worldbank.org/v2/country/{country_code}/indicator/FP.CPI.TOTL.ZG?format=json\"\n",
    "        response = requests.get(url)\n",
    "        data = response.json()\n",
    "\n",
    "        if len(data) > 1 and isinstance(data[1], list):  # Ensure there is data\n",
    "            df = pd.DataFrame(data[1])\n",
    "            df = df[['date', 'value']].rename(columns={'date': 'Year', 'value': f'Inflation_{country_code}'})\n",
    "            df = df.sort_values('Year', ascending=True)  # Sort by Year in ascending order\n",
    "            df = df.sort_values('Year', ascending=True)  # Sort by Year in ascending order\n",
    "\n",
    "            all_inflation_data = pd.merge(all_inflation_data, df, on=\"Year\", how=\"outer\") if not all_inflation_data.empty else df\n",
    "\n",
    "    return all_inflation_data\n",
    "\n",
    "\n",
    "\n"
   ]
  },
  {
   "cell_type": "code",
   "execution_count": 3,
   "metadata": {},
   "outputs": [
    {
     "name": "stdout",
     "output_type": "stream",
     "text": [
      "GDP Data:\n",
      "   Year        GDP_USA       GDP_CAN\n",
      "0  1973  1425376000000  1.317643e+11\n",
      "1  1974  1545243000000  1.609492e+11\n",
      "2  1975  1684904000000  1.744198e+11\n",
      "3  1976  1873412000000  2.072716e+11\n",
      "4  1977  2081826000000  2.123252e+11\n",
      "\n",
      "Inflation Data:\n",
      "   Year  Inflation_USA  Inflation_CAN\n",
      "0  1973       6.177760       7.487647\n",
      "1  1974      11.054805      10.997171\n",
      "2  1975       9.143147      10.672189\n",
      "3  1976       5.744813       7.541739\n",
      "4  1977       6.501684       7.976445\n"
     ]
    }
   ],
   "source": [
    "# Specify the countries you are interested in as a list of country codes\n",
    "countries = ['USA', 'CAN']  # For example, United States and Canada\n",
    "\n",
    "# Fetch and clean data for the specified countries\n",
    "gdp_data = fetch_gdp(countries)\n",
    "inflation_data = fetch_inflation(countries)\n",
    "\n",
    "\n",
    "# Print the head (first few rows) of the data\n",
    "print(\"GDP Data:\")\n",
    "print(gdp_data.head())  # Prints first 5 rows of the GDP data\n",
    "print(\"\\nInflation Data:\")\n",
    "print(inflation_data.head())  # Prints first 5 rows of the Inflation data\n"
   ]
  },
  {
   "cell_type": "code",
   "execution_count": 4,
   "metadata": {},
   "outputs": [],
   "source": [
    "\n",
    "# Call the function for specific countries\n",
    "visualize_data(gdp_data, inflation_data, 'USA')\n",
    "visualize_data(gdp_data, inflation_data, 'CAN')"
   ]
  }
 ],
 "metadata": {
  "kernelspec": {
   "display_name": "Python 3",
   "language": "python",
   "name": "python3"
  },
  "language_info": {
   "codemirror_mode": {
    "name": "ipython",
    "version": 3
   },
   "file_extension": ".py",
   "mimetype": "text/x-python",
   "name": "python",
   "nbconvert_exporter": "python",
   "pygments_lexer": "ipython3",
   "version": "3.12.1"
  }
 },
 "nbformat": 4,
 "nbformat_minor": 2
}
